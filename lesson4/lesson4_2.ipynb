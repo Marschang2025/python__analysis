{
 "cells": [
  {
   "cell_type": "markdown",
   "id": "32e30671",
   "metadata": {},
   "source": [
    "### if --> 流程控制\n",
    "**單項選擇**"
   ]
  },
  {
   "cell_type": "code",
   "execution_count": 1,
   "id": "7f6c2016",
   "metadata": {},
   "outputs": [
    {
     "name": "stdout",
     "output_type": "stream",
     "text": [
      "這是單項選擇\n",
      "這是True的程式選擇\n"
     ]
    }
   ],
   "source": [
    "if True:\n",
    "        print(\"這是單項選擇\")\n",
    "        print(\"這是True的程式選擇\")\n"
   ]
  },
  {
   "cell_type": "markdown",
   "id": "da508aee",
   "metadata": {},
   "source": [
    "**雙向選擇**"
   ]
  },
  {
   "cell_type": "code",
   "execution_count": 4,
   "id": "41f55902",
   "metadata": {},
   "outputs": [
    {
     "name": "stdout",
     "output_type": "stream",
     "text": [
      "這是雙項選擇\n",
      "這是false的程式選擇\n"
     ]
    }
   ],
   "source": [
    "if False:\n",
    "        print(\"這是雙項選擇\")\n",
    "        print(\"這是True的程式選擇\")\n",
    "else:\n",
    "        print(\"這是雙項選擇\")\n",
    "        print(\"這是false的程式選擇\")\n"
   ]
  },
  {
   "cell_type": "code",
   "execution_count": 5,
   "id": "dc32c8e9",
   "metadata": {},
   "outputs": [
    {
     "data": {
      "text/plain": [
       "False"
      ]
     },
     "execution_count": 5,
     "metadata": {},
     "output_type": "execute_result"
    }
   ],
   "source": [
    "5 > 3\n",
    "20 == 20\n",
    "20 != 20"
   ]
  },
  {
   "cell_type": "code",
   "execution_count": 7,
   "id": "8f12d826",
   "metadata": {},
   "outputs": [
    {
     "name": "stdout",
     "output_type": "stream",
     "text": [
      "成年\n"
     ]
    }
   ],
   "source": [
    "age = int(input(\"請輸入age\"))\n",
    "if age < 18:\n",
    "        print(\"未成年\")\n",
    "else:\n",
    "        print(\"成年\")\n",
    "        "
   ]
  },
  {
   "cell_type": "markdown",
   "id": "2bcbaf1b",
   "metadata": {},
   "source": [
    "- 學生總分為300\n",
    "- 有些學生可以加分5%"
   ]
  },
  {
   "cell_type": "code",
   "execution_count": 9,
   "id": "9cd6cc74",
   "metadata": {},
   "outputs": [
    {
     "name": "stdout",
     "output_type": "stream",
     "text": [
      "學生分數是:262\n"
     ]
    }
   ],
   "source": [
    "scores = int(input(\"請輸入學生分數(最高300分):\"))\n",
    "is_add = input(\"學生是否符合加分條件?(y,n)\")\n",
    "if (is_add == \"y\"):\n",
    "    scores *= 1.05\n",
    "    \n",
    "print(f\"學生分數是:{round(scores)}\")\n"
   ]
  }
 ],
 "metadata": {
  "kernelspec": {
   "display_name": "base",
   "language": "python",
   "name": "python3"
  },
  "language_info": {
   "codemirror_mode": {
    "name": "ipython",
    "version": 3
   },
   "file_extension": ".py",
   "mimetype": "text/x-python",
   "name": "python",
   "nbconvert_exporter": "python",
   "pygments_lexer": "ipython3",
   "version": "3.12.7"
  }
 },
 "nbformat": 4,
 "nbformat_minor": 5
}
