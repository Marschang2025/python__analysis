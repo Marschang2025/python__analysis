{
 "cells": [
  {
   "cell_type": "markdown",
   "id": "32e30671",
   "metadata": {},
   "source": [
    "### if --> 流程控制\n",
    "**單項選擇**"
   ]
  },
  {
   "cell_type": "code",
   "execution_count": 1,
   "id": "7f6c2016",
   "metadata": {},
   "outputs": [
    {
     "name": "stdout",
     "output_type": "stream",
     "text": [
      "這是單項選擇\n",
      "這是True的程式選擇\n"
     ]
    }
   ],
   "source": [
    "if True:\n",
    "        print(\"這是單項選擇\")\n",
    "        print(\"這是True的程式選擇\")\n"
   ]
  },
  {
   "cell_type": "markdown",
   "id": "da508aee",
   "metadata": {},
   "source": [
    "**雙向選擇**"
   ]
  },
  {
   "cell_type": "code",
   "execution_count": 4,
   "id": "41f55902",
   "metadata": {},
   "outputs": [
    {
     "name": "stdout",
     "output_type": "stream",
     "text": [
      "這是雙項選擇\n",
      "這是false的程式選擇\n"
     ]
    }
   ],
   "source": [
    "if False:\n",
    "        print(\"這是雙項選擇\")\n",
    "        print(\"這是True的程式選擇\")\n",
    "else:\n",
    "        print(\"這是雙項選擇\")\n",
    "        print(\"這是false的程式選擇\")\n"
   ]
  },
  {
   "cell_type": "code",
   "execution_count": 5,
   "id": "dc32c8e9",
   "metadata": {},
   "outputs": [
    {
     "data": {
      "text/plain": [
       "False"
      ]
     },
     "execution_count": 5,
     "metadata": {},
     "output_type": "execute_result"
    }
   ],
   "source": [
    "5 > 3\n",
    "20 == 20\n",
    "20 != 20"
   ]
  },
  {
   "cell_type": "code",
   "execution_count": 7,
   "id": "8f12d826",
   "metadata": {},
   "outputs": [
    {
     "name": "stdout",
     "output_type": "stream",
     "text": [
      "成年\n"
     ]
    }
   ],
   "source": [
    "age = int(input(\"請輸入age\"))\n",
    "if age < 18:\n",
    "        print(\"未成年\")\n",
    "else:\n",
    "        print(\"成年\")\n",
    "        "
   ]
  },
  {
   "cell_type": "markdown",
   "id": "2bcbaf1b",
   "metadata": {},
   "source": [
    "- 學生總分為300\n",
    "- 有些學生可以加分5%\n",
    "- 如果加分超過300,就已300為準"
   ]
  },
  {
   "cell_type": "code",
   "execution_count": 11,
   "id": "9cd6cc74",
   "metadata": {},
   "outputs": [
    {
     "name": "stdout",
     "output_type": "stream",
     "text": [
      "學生分數是:300\n"
     ]
    }
   ],
   "source": [
    "scores = int(input(\"請輸入學生分數(最高300分):\"))\n",
    "is_add = input(\"學生是否符合加分條件?(y,n)\")\n",
    "if (is_add == \"y\"):\n",
    "    scores *= 1.05\n",
    "    if scores > 300:\n",
    "        scores = 300\n",
    "\n",
    "print(f\"學生分數是:{round(scores)}\")\n"
   ]
  },
  {
   "cell_type": "markdown",
   "id": "14dcfafd",
   "metadata": {},
   "source": [
    "**處理raise Exception**\n",
    "** try: except:處理錯誤**"
   ]
  },
  {
   "cell_type": "code",
   "execution_count": 12,
   "id": "d29fc6b4",
   "metadata": {},
   "outputs": [
    {
     "name": "stdout",
     "output_type": "stream",
     "text": [
      "發生錯誤\n"
     ]
    }
   ],
   "source": [
    "try:\n",
    "    25/0\n",
    "except:\n",
    "    print(\"發生錯誤\")"
   ]
  },
  {
   "cell_type": "code",
   "execution_count": 15,
   "id": "70e25807",
   "metadata": {},
   "outputs": [
    {
     "name": "stdout",
     "output_type": "stream",
     "text": [
      "發生錯誤\n",
      "程式結束\n"
     ]
    }
   ],
   "source": [
    "divitionBy = 0\n",
    "try:\n",
    "    print(25 / divitionBy)\n",
    "except:\n",
    "    print(\"發生錯誤\")\n",
    "\n",
    "print(\"程式結束\")\n"
   ]
  },
  {
   "cell_type": "markdown",
   "id": "49bd271a",
   "metadata": {},
   "source": [
    "**多個except**"
   ]
  },
  {
   "cell_type": "code",
   "execution_count": 18,
   "id": "71714696",
   "metadata": {},
   "outputs": [
    {
     "name": "stdout",
     "output_type": "stream",
     "text": [
      "發生不知名的錯誤\n",
      "程式結束\n"
     ]
    }
   ],
   "source": [
    "divitionBy = 0\n",
    "try:\n",
    "    print(30 / \"10\")\n",
    "    print(25 / divitionBy)\n",
    "except ZeroDivisionError:\n",
    "    print(\"除數不可以是0\")\n",
    "except:\n",
    "    print(\"發生不知名的錯誤\")\n",
    "\n",
    "print(\"程式結束\")"
   ]
  },
  {
   "cell_type": "markdown",
   "id": "505c84c2",
   "metadata": {},
   "source": [
    "**分數輸入格是錯誤 20a**"
   ]
  },
  {
   "cell_type": "code",
   "execution_count": 20,
   "id": "63f5ded0",
   "metadata": {},
   "outputs": [
    {
     "name": "stdout",
     "output_type": "stream",
     "text": [
      "發生不知名的錯誤\n",
      "應用程式結束\n"
     ]
    }
   ],
   "source": [
    "try:\n",
    "    scores = int(input(\"請輸入學生分數(最高300分):\"))\n",
    "    is_add = input(\"學生是否符合加分條件?(y,n)\")\n",
    "    if (is_add == \"y\"):\n",
    "        scores *= 1.05\n",
    "        if scores > 300:\n",
    "            scores = 300\n",
    "\n",
    "    print(f\"學生分數是:{round(scores)}\")\n",
    "except:\n",
    "    print(\"發生不知名的錯誤\")\n",
    "print(\"應用程式結束\")\n"
   ]
  },
  {
   "cell_type": "code",
   "execution_count": 2,
   "id": "57c433ae",
   "metadata": {},
   "outputs": [
    {
     "name": "stdout",
     "output_type": "stream",
     "text": [
      "輸入錯誤：請輸入有效的數值\n"
     ]
    }
   ],
   "source": [
    "try:\n",
    "    num = int(input(\"請輸入一個數值：\"))\n",
    "    if num % 2 == 0:\n",
    "        print(\"這是偶數\")\n",
    "    else:\n",
    "        print(\"這是奇數\")\n",
    "except ValueError:\n",
    "    print(\"輸入錯誤：請輸入有效的數值\")"
   ]
  }
 ],
 "metadata": {
  "kernelspec": {
   "display_name": "base",
   "language": "python",
   "name": "python3"
  },
  "language_info": {
   "codemirror_mode": {
    "name": "ipython",
    "version": 3
   },
   "file_extension": ".py",
   "mimetype": "text/x-python",
   "name": "python",
   "nbconvert_exporter": "python",
   "pygments_lexer": "ipython3",
   "version": "3.12.7"
  }
 },
 "nbformat": 4,
 "nbformat_minor": 5
}
