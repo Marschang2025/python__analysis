{
 "cells": [
  {
   "cell_type": "code",
   "execution_count": null,
   "id": "b8295367",
   "metadata": {},
   "outputs": [],
   "source": [
    "###複合指定運算子"
   ]
  },
  {
   "cell_type": "code",
   "execution_count": 3,
   "id": "8b42e009",
   "metadata": {},
   "outputs": [
    {
     "name": "stdout",
     "output_type": "stream",
     "text": [
      "10\n"
     ]
    }
   ],
   "source": [
    "n = 10\n",
    "n + 1\n",
    "print(n)"
   ]
  },
  {
   "cell_type": "code",
   "execution_count": 4,
   "id": "793957d5",
   "metadata": {},
   "outputs": [
    {
     "name": "stdout",
     "output_type": "stream",
     "text": [
      "11\n"
     ]
    }
   ],
   "source": [
    "n = 10\n",
    "n = n + 1\n",
    "print(n)"
   ]
  },
  {
   "cell_type": "code",
   "execution_count": 1,
   "id": "bf4b99c6",
   "metadata": {},
   "outputs": [
    {
     "name": "stdout",
     "output_type": "stream",
     "text": [
      "11\n"
     ]
    }
   ],
   "source": [
    "n = 10 \n",
    "n += 1 #z複合指定運算子 += -= *= /= //= %= **=\n",
    "print(n)"
   ]
  },
  {
   "cell_type": "code",
   "execution_count": 2,
   "id": "f17b4b89",
   "metadata": {},
   "outputs": [
    {
     "name": "stdout",
     "output_type": "stream",
     "text": [
      "100\n"
     ]
    }
   ],
   "source": [
    "n = 10\n",
    "n *= 10\n",
    "print(n)"
   ]
  },
  {
   "cell_type": "code",
   "execution_count": null,
   "id": "97bab0dc",
   "metadata": {},
   "outputs": [],
   "source": [
    "###請以(複合指定運算子)設計程式,讓用者輸入三個任意數，程式會顯示3數相加的總和(float)"
   ]
  },
  {
   "cell_type": "code",
   "execution_count": 5,
   "id": "6623c570",
   "metadata": {},
   "outputs": [
    {
     "name": "stdout",
     "output_type": "stream",
     "text": [
      "三數總和為:106.6\n"
     ]
    }
   ],
   "source": [
    "total = 0.0\n",
    "n = float(input(\"請輸入第一個數:\"))\n",
    "total += n\n",
    "n = float(input(\"請輸入第二個數:\"))\n",
    "total += n\n",
    "n = float(input(\"請輸入第三個數:\"))\n",
    "total += n\n",
    "\n",
    "print(f\"三數總和為:{total}\")"
   ]
  }
 ],
 "metadata": {
  "kernelspec": {
   "display_name": "base",
   "language": "python",
   "name": "python3"
  },
  "language_info": {
   "codemirror_mode": {
    "name": "ipython",
    "version": 3
   },
   "file_extension": ".py",
   "mimetype": "text/x-python",
   "name": "python",
   "nbconvert_exporter": "python",
   "pygments_lexer": "ipython3",
   "version": "3.12.7"
  }
 },
 "nbformat": 4,
 "nbformat_minor": 5
}
