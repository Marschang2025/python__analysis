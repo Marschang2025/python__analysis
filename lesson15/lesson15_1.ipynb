{
 "cells": [
  {
   "cell_type": "markdown",
   "id": "a689434e",
   "metadata": {},
   "source": [
    "### \n",
    "https://www.perplexity.ai/search/0638400d-59de-4d83-8e38-0cb807daf590"
   ]
  },
  {
   "cell_type": "code",
   "execution_count": 1,
   "id": "aae54b4a",
   "metadata": {},
   "outputs": [],
   "source": [
    "import numpy as np\n",
    "from numpy import ndarray\n",
    "\n",
    "my_array:ndarray = np.arange(1000000)\n",
    "my_list = list(range(1000000))"
   ]
  },
  {
   "cell_type": "code",
   "execution_count": 2,
   "id": "551ff3ca",
   "metadata": {},
   "outputs": [
    {
     "name": "stdout",
     "output_type": "stream",
     "text": [
      "CPU times: total: 0 ns\n",
      "Wall time: 0 ns\n"
     ]
    }
   ],
   "source": [
    "%time\n",
    "for _ in range(10):\n",
    "    #list的comprehension,list綜合表達式\n",
    "    my_list = list(range(1000000))\n"
   ]
  },
  {
   "cell_type": "code",
   "execution_count": 3,
   "id": "5d33692b",
   "metadata": {},
   "outputs": [
    {
     "name": "stdout",
     "output_type": "stream",
     "text": [
      "CPU times: total: 0 ns\n",
      "Wall time: 0 ns\n"
     ]
    }
   ],
   "source": [
    "%time \n",
    "\n",
    "for _ in range(10):\n",
    "    #list的comprehension,list綜合表達式\n",
    "    my_lists = [x*2 for x in my_list]"
   ]
  },
  {
   "cell_type": "code",
   "execution_count": 4,
   "id": "4d36e1da",
   "metadata": {},
   "outputs": [
    {
     "name": "stdout",
     "output_type": "stream",
     "text": [
      "CPU times: total: 31.2 ms\n",
      "Wall time: 35.2 ms\n"
     ]
    }
   ],
   "source": [
    "%time for _ in range(10): my_array2 = my_array * 2"
   ]
  },
  {
   "cell_type": "code",
   "execution_count": 6,
   "id": "ad386beb",
   "metadata": {},
   "outputs": [
    {
     "data": {
      "text/plain": [
       "tuple"
      ]
     },
     "execution_count": 6,
     "metadata": {},
     "output_type": "execute_result"
    }
   ],
   "source": [
    "#tuple,1個元素的表示法\n",
    "(4, 5)\n",
    "type((4,))"
   ]
  },
  {
   "cell_type": "code",
   "execution_count": 7,
   "id": "3e567d3b",
   "metadata": {},
   "outputs": [
    {
     "data": {
      "text/plain": [
       "(4,)"
      ]
     },
     "execution_count": 7,
     "metadata": {},
     "output_type": "execute_result"
    }
   ],
   "source": [
    "#一維陣列\n",
    "np.array(range(4)).shape"
   ]
  },
  {
   "cell_type": "code",
   "execution_count": null,
   "id": "b70b9c95",
   "metadata": {},
   "outputs": [],
   "source": [
    "### 50個學生,每個學生有5個分數,每個分數50~100\n",
    "np.random.seed(42)\n",
    "scores = np.random.randint(50, 101, (50,5))\n",
    "scores"
   ]
  },
  {
   "cell_type": "code",
   "execution_count": 10,
   "id": "c649a2a2",
   "metadata": {},
   "outputs": [
    {
     "data": {
      "text/plain": [
       "dtype('int32')"
      ]
     },
     "execution_count": 10,
     "metadata": {},
     "output_type": "execute_result"
    }
   ],
   "source": [
    "#ndarray常用的實體屬性\n",
    "scores.ndim\n",
    "scores.shape\n",
    "scores.size\n",
    "scores.dtype"
   ]
  },
  {
   "cell_type": "markdown",
   "id": "78716c7c",
   "metadata": {},
   "source": [
    "基本索引[index]和分割[slicing]\n",
    "ndarray[index]\n",
    "ndarray[start:end:step]"
   ]
  },
  {
   "cell_type": "code",
   "execution_count": null,
   "id": "7c877699",
   "metadata": {},
   "outputs": [
    {
     "data": {
      "text/plain": [
       "np.int32(57)"
      ]
     },
     "execution_count": 11,
     "metadata": {},
     "output_type": "execute_result"
    }
   ],
   "source": [
    "#2維\n",
    "scores[0][4] #類似list的操作\n",
    "scores[0, 4] #ndarry的slice的操作法"
   ]
  },
  {
   "cell_type": "code",
   "execution_count": 12,
   "id": "f96c5e92",
   "metadata": {},
   "outputs": [
    {
     "data": {
      "text/plain": [
       "array([[88, 78, 64, 92, 57]], dtype=int32)"
      ]
     },
     "execution_count": 12,
     "metadata": {},
     "output_type": "execute_result"
    }
   ],
   "source": [
    "### 取得第1位學生的分數\n",
    "scores [0] #shape(5,)\n",
    "scores [0,:] #shape(5,0)\n",
    "scores [0:1,:] #shape(1,5)"
   ]
  },
  {
   "cell_type": "code",
   "execution_count": 13,
   "id": "491fc54b",
   "metadata": {},
   "outputs": [
    {
     "data": {
      "text/plain": [
       "array([[88, 78, 64, 92, 57],\n",
       "       [70, 88, 68, 72, 60]], dtype=int32)"
      ]
     },
     "execution_count": 13,
     "metadata": {},
     "output_type": "execute_result"
    }
   ],
   "source": [
    "### 取得第1,2位學生的分數\n",
    "scores [:2]\n",
    "scores [:2,:]\n",
    "scores [(0,1),:]"
   ]
  },
  {
   "cell_type": "code",
   "execution_count": 14,
   "id": "a77d8b27",
   "metadata": {},
   "outputs": [
    {
     "data": {
      "text/plain": [
       "array([[88, 78, 64, 92, 57],\n",
       "       [70, 88, 68, 72, 60],\n",
       "       [79, 87, 51, 70, 82]], dtype=int32)"
      ]
     },
     "execution_count": 14,
     "metadata": {},
     "output_type": "execute_result"
    }
   ],
   "source": [
    "### 取得第1,2,5位學生的分數\n",
    "scores [(0,1,4),:]"
   ]
  },
  {
   "cell_type": "code",
   "execution_count": 15,
   "id": "077b3211",
   "metadata": {},
   "outputs": [
    {
     "data": {
      "text/plain": [
       "array([[ 88],\n",
       "       [ 70],\n",
       "       [ 60],\n",
       "       [ 52],\n",
       "       [ 79],\n",
       "       [ 61],\n",
       "       [ 76],\n",
       "       [ 96],\n",
       "       [100],\n",
       "       [ 67],\n",
       "       [ 58],\n",
       "       [ 96],\n",
       "       [ 84],\n",
       "       [ 89],\n",
       "       [ 53],\n",
       "       [ 83],\n",
       "       [ 97],\n",
       "       [ 89],\n",
       "       [ 96],\n",
       "       [ 90],\n",
       "       [ 74],\n",
       "       [ 93],\n",
       "       [ 66],\n",
       "       [ 54],\n",
       "       [ 56],\n",
       "       [ 82],\n",
       "       [ 84],\n",
       "       [ 84],\n",
       "       [ 63],\n",
       "       [ 63],\n",
       "       [ 64],\n",
       "       [ 81],\n",
       "       [ 79],\n",
       "       [ 64],\n",
       "       [ 81],\n",
       "       [ 51],\n",
       "       [ 77],\n",
       "       [ 60],\n",
       "       [ 50],\n",
       "       [ 88],\n",
       "       [ 86],\n",
       "       [ 73],\n",
       "       [ 90],\n",
       "       [ 51],\n",
       "       [ 66],\n",
       "       [ 72],\n",
       "       [ 68],\n",
       "       [ 55],\n",
       "       [ 87],\n",
       "       [ 71]], dtype=int32)"
      ]
     },
     "execution_count": 15,
     "metadata": {},
     "output_type": "execute_result"
    }
   ],
   "source": [
    "### 取得第1科的所有分數\n",
    "scores [:,0] #(50,)\n",
    "scores [:,0:1] #(1,50)"
   ]
  },
  {
   "cell_type": "code",
   "execution_count": 16,
   "id": "f9ec2f2c",
   "metadata": {},
   "outputs": [
    {
     "data": {
      "text/plain": [
       "array([[ 88,  78],\n",
       "       [ 70,  88],\n",
       "       [ 60,  73],\n",
       "       [ 52,  71],\n",
       "       [ 79,  87],\n",
       "       [ 61,  71],\n",
       "       [ 76,  91],\n",
       "       [ 96, 100],\n",
       "       [100,  56],\n",
       "       [ 67,  53],\n",
       "       [ 58,  75],\n",
       "       [ 96,  56],\n",
       "       [ 84,  63],\n",
       "       [ 89,  53],\n",
       "       [ 53,  78],\n",
       "       [ 83,  59],\n",
       "       [ 97,  64],\n",
       "       [ 89,  70],\n",
       "       [ 96,  73],\n",
       "       [ 90,  78],\n",
       "       [ 74,  56],\n",
       "       [ 93,  57],\n",
       "       [ 66,  57],\n",
       "       [ 54,  91],\n",
       "       [ 56,  58],\n",
       "       [ 82,  97],\n",
       "       [ 84,  93],\n",
       "       [ 84,  50],\n",
       "       [ 63,  52],\n",
       "       [ 63,  88],\n",
       "       [ 64,  75],\n",
       "       [ 81,  88],\n",
       "       [ 79,  86],\n",
       "       [ 64,  92],\n",
       "       [ 81,  56],\n",
       "       [ 51,  91],\n",
       "       [ 77,  93],\n",
       "       [ 60,  77],\n",
       "       [ 50,  76],\n",
       "       [ 88,  55],\n",
       "       [ 86,  82],\n",
       "       [ 73,  64],\n",
       "       [ 90,  98],\n",
       "       [ 51,  52],\n",
       "       [ 66,  98],\n",
       "       [ 72,  86],\n",
       "       [ 68,  51],\n",
       "       [ 55,  81],\n",
       "       [ 87,  73],\n",
       "       [ 71,  60]], dtype=int32)"
      ]
     },
     "execution_count": 16,
     "metadata": {},
     "output_type": "execute_result"
    }
   ],
   "source": [
    "### 取得第1,2科的所有分數\n",
    "scores [:,0:2] #(50,2)"
   ]
  },
  {
   "cell_type": "code",
   "execution_count": 17,
   "id": "edbefe43",
   "metadata": {},
   "outputs": [
    {
     "data": {
      "text/plain": [
       "array([[ 64,  92,  57],\n",
       "       [ 68,  72,  60],\n",
       "       [ 85,  89,  73],\n",
       "       [ 51,  73,  93],\n",
       "       [ 51,  70,  82],\n",
       "       [ 93,  74,  98],\n",
       "       [ 77,  65,  64],\n",
       "       [ 93,  52,  86],\n",
       "       [ 70,  58,  88],\n",
       "       [ 74,  63,  99],\n",
       "       [ 51,  69,  77],\n",
       "       [ 93,  57,  96],\n",
       "       [ 66,  85,  99],\n",
       "       [ 51,  55,  91],\n",
       "       [ 67,  75,  93],\n",
       "       [ 85,  63,  80],\n",
       "       [ 57,  63,  72],\n",
       "       [ 65,  94,  67],\n",
       "       [ 75,  74,  94],\n",
       "       [ 64,  94,  50],\n",
       "       [ 58,  73,  50],\n",
       "       [ 73,  60, 100],\n",
       "       [ 84,  84,  82],\n",
       "       [ 88,  90,  77],\n",
       "       [ 57,  61,  83],\n",
       "       [ 72,  73,  86],\n",
       "       [ 89,  71,  76],\n",
       "       [ 84,  86,  96],\n",
       "       [ 50,  54,  75],\n",
       "       [ 76,  58,  64]], dtype=int32)"
      ]
     },
     "execution_count": 17,
     "metadata": {},
     "output_type": "execute_result"
    }
   ],
   "source": [
    "### 取得前30位學生的最後3科分數\n",
    "scores [:30,-3:] #(30,3)"
   ]
  },
  {
   "cell_type": "markdown",
   "id": "cf7de60d",
   "metadata": {},
   "source": [
    "### ndarray的統計實體方法\n",
    "- sum()\n",
    "- min()\n",
    "- max()\n",
    "- mean() 平均"
   ]
  },
  {
   "cell_type": "code",
   "execution_count": null,
   "id": "0fe5d1cf",
   "metadata": {},
   "outputs": [
    {
     "data": {
      "text/plain": [
       "array([379, 358, 380, 340, 369, 397, 373, 427, 372, 356, 330, 398, 397,\n",
       "       339, 366, 370, 353, 385, 412, 376, 311, 383, 373, 400, 315, 410,\n",
       "       413, 400, 294, 349, 392, 401, 419, 381, 385, 368, 411, 381, 330,\n",
       "       334, 452, 372, 435, 385, 343, 371, 368, 315, 352, 375])"
      ]
     },
     "execution_count": 18,
     "metadata": {},
     "output_type": "execute_result"
    }
   ],
   "source": [
    "#每個學生的總分\n",
    "scores.sum(axis=1)"
   ]
  },
  {
   "cell_type": "code",
   "execution_count": 19,
   "id": "fd1fd955",
   "metadata": {},
   "outputs": [
    {
     "data": {
      "text/plain": [
       "array([75.8, 71.6, 76. , 68. , 73.8, 79.4, 74.6, 85.4, 74.4, 71.2, 66. ,\n",
       "       79.6, 79.4, 67.8, 73.2, 74. , 70.6, 77. , 82.4, 75.2, 62.2, 76.6,\n",
       "       74.6, 80. , 63. , 82. , 82.6, 80. , 58.8, 69.8])"
      ]
     },
     "execution_count": 19,
     "metadata": {},
     "output_type": "execute_result"
    }
   ],
   "source": [
    "#前30位學生的平均\n",
    "scores[:30].mean(axis=1)"
   ]
  },
  {
   "cell_type": "code",
   "execution_count": 21,
   "id": "5f58ad2a",
   "metadata": {},
   "outputs": [
    {
     "data": {
      "text/plain": [
       "np.int32(50)"
      ]
     },
     "execution_count": 21,
     "metadata": {},
     "output_type": "execute_result"
    }
   ],
   "source": [
    "#第1科最高的分數和最低的分數\n",
    "scores [:,0].max(axis=0)\n",
    "scores [:,0].min(axis=0)"
   ]
  }
 ],
 "metadata": {
  "kernelspec": {
   "display_name": "myenv",
   "language": "python",
   "name": "python3"
  },
  "language_info": {
   "codemirror_mode": {
    "name": "ipython",
    "version": 3
   },
   "file_extension": ".py",
   "mimetype": "text/x-python",
   "name": "python",
   "nbconvert_exporter": "python",
   "pygments_lexer": "ipython3",
   "version": "3.10.16"
  }
 },
 "nbformat": 4,
 "nbformat_minor": 5
}
