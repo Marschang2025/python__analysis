{
 "cells": [
  {
   "cell_type": "markdown",
   "id": "52aac4a8",
   "metadata": {},
   "source": [
    "### numpy的reshape()\n"
   ]
  },
  {
   "cell_type": "code",
   "execution_count": 1,
   "id": "a250488a",
   "metadata": {},
   "outputs": [
    {
     "data": {
      "text/plain": [
       "(12,)"
      ]
     },
     "execution_count": 1,
     "metadata": {},
     "output_type": "execute_result"
    }
   ],
   "source": [
    "import numpy as np\n",
    "\n",
    "array = np.arange(12)\n",
    "array.shape\n"
   ]
  },
  {
   "cell_type": "code",
   "execution_count": 2,
   "id": "6c197e86",
   "metadata": {},
   "outputs": [
    {
     "data": {
      "text/plain": [
       "array([[ 0,  1,  2,  3],\n",
       "       [ 4,  5,  6,  7],\n",
       "       [ 8,  9, 10, 11]])"
      ]
     },
     "execution_count": 2,
     "metadata": {},
     "output_type": "execute_result"
    }
   ],
   "source": [
    "array.reshape((3,4))"
   ]
  },
  {
   "cell_type": "code",
   "execution_count": 3,
   "id": "9d3501cc",
   "metadata": {},
   "outputs": [
    {
     "data": {
      "text/plain": [
       "(3, 4)"
      ]
     },
     "execution_count": 3,
     "metadata": {},
     "output_type": "execute_result"
    }
   ],
   "source": [
    "array1 = array.reshape((3,4))\n",
    "array1.shape"
   ]
  },
  {
   "cell_type": "code",
   "execution_count": 4,
   "id": "e1dc5dfe",
   "metadata": {},
   "outputs": [
    {
     "data": {
      "text/plain": [
       "np.int64(6)"
      ]
     },
     "execution_count": 4,
     "metadata": {},
     "output_type": "execute_result"
    }
   ],
   "source": [
    "array1 = array.reshape((3,4))\n",
    "array1.shape\n",
    "array1[1,2]"
   ]
  },
  {
   "cell_type": "code",
   "execution_count": 5,
   "id": "6624a506",
   "metadata": {},
   "outputs": [
    {
     "data": {
      "text/plain": [
       "array([[ 0,  1,  2,  3,  4,  5],\n",
       "       [ 6,  7,  8,  9, 10, 11]])"
      ]
     },
     "execution_count": 5,
     "metadata": {},
     "output_type": "execute_result"
    }
   ],
   "source": [
    "array2 = array1.reshape((2,6))\n",
    "array2"
   ]
  },
  {
   "cell_type": "code",
   "execution_count": 6,
   "id": "d0301563",
   "metadata": {},
   "outputs": [
    {
     "data": {
      "text/plain": [
       "np.int64(6)"
      ]
     },
     "execution_count": 6,
     "metadata": {},
     "output_type": "execute_result"
    }
   ],
   "source": [
    "array2 = array1.reshape((2,6))\n",
    "array2[1,0]"
   ]
  },
  {
   "cell_type": "code",
   "execution_count": 7,
   "id": "3e2e1424",
   "metadata": {},
   "outputs": [
    {
     "data": {
      "text/plain": [
       "array([[[[[ 0],\n",
       "          [ 1],\n",
       "          [ 2],\n",
       "          [ 3],\n",
       "          [ 4],\n",
       "          [ 5]]],\n",
       "\n",
       "\n",
       "        [[[ 6],\n",
       "          [ 7],\n",
       "          [ 8],\n",
       "          [ 9],\n",
       "          [10],\n",
       "          [11]]]]])"
      ]
     },
     "execution_count": 7,
     "metadata": {},
     "output_type": "execute_result"
    }
   ],
   "source": [
    "array3 = array2.reshape((1,2,1,6,1))\n",
    "array3"
   ]
  },
  {
   "cell_type": "code",
   "execution_count": 8,
   "id": "986552fa",
   "metadata": {},
   "outputs": [
    {
     "data": {
      "text/plain": [
       "np.int64(6)"
      ]
     },
     "execution_count": 8,
     "metadata": {},
     "output_type": "execute_result"
    }
   ],
   "source": [
    "array3 = array2.reshape((1,2,1,6,1))\n",
    "array3[0,1,0,0,0]"
   ]
  }
 ],
 "metadata": {
  "kernelspec": {
   "display_name": "myenv",
   "language": "python",
   "name": "python3"
  },
  "language_info": {
   "codemirror_mode": {
    "name": "ipython",
    "version": 3
   },
   "file_extension": ".py",
   "mimetype": "text/x-python",
   "name": "python",
   "nbconvert_exporter": "python",
   "pygments_lexer": "ipython3",
   "version": "3.10.16"
  }
 },
 "nbformat": 4,
 "nbformat_minor": 5
}
