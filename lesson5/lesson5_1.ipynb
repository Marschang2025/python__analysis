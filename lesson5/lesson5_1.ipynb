{
 "cells": [
  {
   "cell_type": "markdown",
   "id": "2312f0d6",
   "metadata": {},
   "source": [
    "### 巢狀判斷\n",
    "- 貓\n",
    "- 熊\n",
    "- 蜥蜴\n",
    "- 人類"
   ]
  },
  {
   "cell_type": "code",
   "execution_count": 2,
   "id": "3a4735cb",
   "metadata": {},
   "outputs": [
    {
     "name": "stdout",
     "output_type": "stream",
     "text": [
      "熊\n"
     ]
    }
   ],
   "source": [
    "furry:bool = True\n",
    "small:bool = False\n",
    "\n",
    "if furry:\n",
    "    if small:\n",
    "        print(\"貓\")\n",
    "    else:\n",
    "        print(\"熊\")\n",
    "else:\n",
    "    if small:\n",
    "        print(\"蜥蜴\")\n",
    "    else:\n",
    "        print(\"人\")"
   ]
  },
  {
   "cell_type": "code",
   "execution_count": 5,
   "id": "f40717ad",
   "metadata": {},
   "outputs": [
    {
     "name": "stdout",
     "output_type": "stream",
     "text": [
      "學生等級:不及格\n"
     ]
    }
   ],
   "source": [
    "score:int = int(input(\"請輸入學生分數:\"))\n",
    "if score >= 80:\n",
    "    grade:str = '優'\n",
    "else:\n",
    "    #小於80\n",
    "    if score >= 60:\n",
    "        #小於80同時大於等於60\n",
    "        grade:str = '及格'\n",
    "    else:\n",
    "        grade:str = '不及格'\n",
    "print(f\"學生等級:{grade}\")\n"
   ]
  },
  {
   "cell_type": "markdown",
   "id": "bf9e633a",
   "metadata": {},
   "source": [
    "### 多項選擇"
   ]
  },
  {
   "cell_type": "code",
   "execution_count": 3,
   "id": "3d235431",
   "metadata": {},
   "outputs": [
    {
     "name": "stdout",
     "output_type": "stream",
     "text": [
      "學生等級:不及格\n"
     ]
    }
   ],
   "source": [
    "score:int = int(input(\"請輸入學生分數:\"))\n",
    "if score >= 80:\n",
    "    grade:str = '優'\n",
    "elif score >= 60:\n",
    "    grade:str = '及格'\n",
    "else:\n",
    "    grade:str = '不及格'\n",
    "print(f\"學生等級:{grade}\")"
   ]
  },
  {
   "cell_type": "markdown",
   "id": "54614d28",
   "metadata": {},
   "source": [
    "- 90(含)~100分為'優'\n",
    "- 80(含)~89分為'甲'\n",
    "- 70(含)~79分為'乙'\n",
    "- 60(含)~69分為'丙'\n",
    "- 0(含)~59分為'丁'"
   ]
  },
  {
   "cell_type": "code",
   "execution_count": 8,
   "id": "8e366e23",
   "metadata": {},
   "outputs": [
    {
     "name": "stdout",
     "output_type": "stream",
     "text": [
      "學生等級:丁\n"
     ]
    }
   ],
   "source": [
    "score:int = int(input(\"請輸入學生分數:\"))\n",
    "if score >= 90:\n",
    "    grade:str = '優'\n",
    "elif score >= 80:\n",
    "    grade:str = '甲'\n",
    "elif score >= 70:\n",
    "    grade:str = '乙'\n",
    "elif score >= 60:\n",
    "    grade:str = '丙'\n",
    "else:\n",
    "    grade:str = '丁'\n",
    "\n",
    "print(f\"學生等級:{grade}\")"
   ]
  },
  {
   "cell_type": "markdown",
   "id": "9143d8f6",
   "metadata": {},
   "source": [
    "### 輸入顧客購買金額,若金額在\n",
    "\n",
    "    - 100000元打8折.\n",
    "    - 50000元打85折.\n",
    "    - 30000元打9折.\n",
    "    - 10000元打95折.\n",
    "\n",
    "    請輸入購買金額:130000\n",
    "\n",
    "    實付金額是: 104000.0元"
   ]
  },
  {
   "cell_type": "code",
   "execution_count": 9,
   "id": "2bd1a7fa",
   "metadata": {},
   "outputs": [
    {
     "name": "stdout",
     "output_type": "stream",
     "text": [
      "實付金額:31500.0\n"
     ]
    }
   ],
   "source": [
    "money:int = int(input(\"請輸入購買金額:\"))\n",
    "if money < 10000:\n",
    "    pay_money:int = money\n",
    "elif money < 30000:\n",
    "    pay_money:int = money * 0.95\n",
    "elif money < 50000:\n",
    "    pay_money:int = money * 0.9\n",
    "elif money < 100000:\n",
    "    pay_money:int = money * 0.85\n",
    "else:\n",
    "    pay_money:int = money * 0.8\n",
    "\n",
    "print(f\"實付金額:{pay_money}\")"
   ]
  }
 ],
 "metadata": {
  "kernelspec": {
   "display_name": "base",
   "language": "python",
   "name": "python3"
  },
  "language_info": {
   "codemirror_mode": {
    "name": "ipython",
    "version": 3
   },
   "file_extension": ".py",
   "mimetype": "text/x-python",
   "name": "python",
   "nbconvert_exporter": "python",
   "pygments_lexer": "ipython3",
   "version": "3.12.7"
  }
 },
 "nbformat": 4,
 "nbformat_minor": 5
}
