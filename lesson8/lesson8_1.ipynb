{
 "cells": [
  {
   "cell_type": "markdown",
   "id": "8adb05f8",
   "metadata": {},
   "source": [
    "### 如呼呼叫function"
   ]
  },
  {
   "cell_type": "code",
   "execution_count": 6,
   "id": "729c8904",
   "metadata": {},
   "outputs": [],
   "source": [
    "def menu(wine:str, entree:str ,dessert:str):\n",
    "    print(f\"前菜:{wine}\")\n",
    "    print(f\"主菜:{entree}\")\n",
    "    print(f\"甜點:{dessert}\")"
   ]
  },
  {
   "cell_type": "markdown",
   "id": "8907f0d7",
   "metadata": {},
   "source": [
    "### 引數值的呼叫(依照參數的順序)"
   ]
  },
  {
   "cell_type": "code",
   "execution_count": 7,
   "id": "61386343",
   "metadata": {},
   "outputs": [
    {
     "name": "stdout",
     "output_type": "stream",
     "text": [
      "前菜:白酒\n",
      "主菜:雞排\n",
      "甜點:蛋糕\n"
     ]
    }
   ],
   "source": [
    "menu('白酒','雞排','蛋糕')"
   ]
  },
  {
   "cell_type": "markdown",
   "id": "a6d213dd",
   "metadata": {},
   "source": [
    "### 引數名稱的呼叫(可以不依照順序)"
   ]
  },
  {
   "cell_type": "code",
   "execution_count": 8,
   "id": "b748c7ef",
   "metadata": {},
   "outputs": [
    {
     "name": "stdout",
     "output_type": "stream",
     "text": [
      "前菜:白酒\n",
      "主菜:雞排\n",
      "甜點:蛋糕\n",
      "前菜:白酒\n",
      "主菜:雞排\n",
      "甜點:蛋糕\n"
     ]
    }
   ],
   "source": [
    "menu(wine='白酒',entree='雞排',dessert='蛋糕')\n",
    "menu(wine='白酒',dessert='蛋糕',entree='雞排')"
   ]
  },
  {
   "cell_type": "markdown",
   "id": "fe470ecd",
   "metadata": {},
   "source": [
    "### 混和呼叫\n",
    "- 前面要引數值呼叫\n",
    "- 後面要引數名稱的呼叫\n",
    "- 引數名稱呼叫後,就全部要使用引數名稱"
   ]
  },
  {
   "cell_type": "code",
   "execution_count": 9,
   "id": "69f9bd7d",
   "metadata": {},
   "outputs": [
    {
     "name": "stdout",
     "output_type": "stream",
     "text": [
      "前菜:白酒\n",
      "主菜:雞排\n",
      "甜點:蛋糕\n",
      "前菜:白酒\n",
      "主菜:雞排\n",
      "甜點:蛋糕\n"
     ]
    }
   ],
   "source": [
    "menu('白酒',entree='雞排',dessert='蛋糕')\n",
    "menu('白酒',dessert='蛋糕',entree='雞排')"
   ]
  },
  {
   "cell_type": "markdown",
   "id": "19f4e51d",
   "metadata": {},
   "source": [
    "### 參數有預設值\n",
    "- 有預設值的參數一定要放在最後面\n",
    "- 呼叫的方式變多了"
   ]
  },
  {
   "cell_type": "code",
   "execution_count": 10,
   "id": "f52a57a3",
   "metadata": {},
   "outputs": [],
   "source": [
    "def menu(wine:str, entree:str ,dessert:str='奶昔'):\n",
    "    print(f\"前菜:{wine}\")\n",
    "    print(f\"主菜:{entree}\")\n",
    "    print(f\"甜點:{dessert}\")"
   ]
  },
  {
   "cell_type": "code",
   "execution_count": 11,
   "id": "1c019bb0",
   "metadata": {},
   "outputs": [
    {
     "name": "stdout",
     "output_type": "stream",
     "text": [
      "前菜:白酒\n",
      "主菜:雞排\n",
      "甜點:奶昔\n"
     ]
    }
   ],
   "source": [
    "menu('白酒',entree='雞排')"
   ]
  },
  {
   "cell_type": "code",
   "execution_count": 12,
   "id": "7a73d5ec",
   "metadata": {},
   "outputs": [
    {
     "name": "stdout",
     "output_type": "stream",
     "text": [
      "前菜:白酒\n",
      "主菜:雞排\n",
      "甜點:蛋糕\n"
     ]
    }
   ],
   "source": [
    "menu('白酒',dessert='蛋糕',entree='雞排')"
   ]
  }
 ],
 "metadata": {
  "kernelspec": {
   "display_name": "base",
   "language": "python",
   "name": "python3"
  },
  "language_info": {
   "codemirror_mode": {
    "name": "ipython",
    "version": 3
   },
   "file_extension": ".py",
   "mimetype": "text/x-python",
   "name": "python",
   "nbconvert_exporter": "python",
   "pygments_lexer": "ipython3",
   "version": "3.12.7"
  }
 },
 "nbformat": 4,
 "nbformat_minor": 5
}
