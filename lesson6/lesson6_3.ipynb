{
 "cells": [
  {
   "cell_type": "markdown",
   "id": "84cb887e",
   "metadata": {},
   "source": [
    "### 猜數字遊戲"
   ]
  },
  {
   "cell_type": "code",
   "execution_count": null,
   "id": "0e1a7d8f",
   "metadata": {},
   "outputs": [
    {
     "name": "stdout",
     "output_type": "stream",
     "text": [
      "=====猜數字遊戲=====\n",
      "\n",
      "\n",
      "再大一點\n",
      "您已經猜了:1\n",
      "再小一點\n",
      "您已經猜了:2\n",
      "再小一點\n",
      "您已經猜了:3\n",
      "再大一點\n",
      "您已經猜了:4\n",
      "再小一點\n",
      "您已經猜了:5\n",
      "賓果!猜對了, 答案是(target)\n",
      "您猜了6次\n",
      "猜數字的遊戲結束\n"
     ]
    }
   ],
   "source": [
    "import random\n",
    "min = 1 #變數1\n",
    "max = 99 #變數2\n",
    "count = 0\n",
    "target = random.randint(min, max)\n",
    "print(\"=====猜數字遊戲=====\\n\\n\")\n",
    "#print(target) 可改變先後知道答案\n",
    "while(True):\n",
    "    keyin = int(input(f'猜數字範圍{min}~{max}'))\n",
    "    count += 1\n",
    "    if(keyin >= min and keyin <= max):\n",
    "        if(keyin == target):\n",
    "            print(f\"賓果!猜對了, 答案是:(target)\")\n",
    "            print(f\"您猜了{count}次\")\n",
    "            break\n",
    "        elif keyin < target:\n",
    "            print(\"再大一點\")\n",
    "            min = keyin + 1\n",
    "        elif keyin > target:\n",
    "            print(\"再小一點\")\n",
    "            max = keyin - 1\n",
    "        print(f\"您已經猜了:{count}次\")\n",
    "    else:\n",
    "        print(\"請輸入提示範圍內的數字\")\n",
    "    \n",
    "print(\"猜數字的遊戲結束\")"
   ]
  }
 ],
 "metadata": {
  "kernelspec": {
   "display_name": "base",
   "language": "python",
   "name": "python3"
  },
  "language_info": {
   "codemirror_mode": {
    "name": "ipython",
    "version": 3
   },
   "file_extension": ".py",
   "mimetype": "text/x-python",
   "name": "python",
   "nbconvert_exporter": "python",
   "pygments_lexer": "ipython3",
   "version": "3.12.7"
  }
 },
 "nbformat": 4,
 "nbformat_minor": 5
}
