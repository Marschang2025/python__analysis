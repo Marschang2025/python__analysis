{
 "cells": [
  {
   "cell_type": "markdown",
   "id": "84cb887e",
   "metadata": {},
   "source": [
    "### 猜數字遊戲"
   ]
  },
  {
   "cell_type": "code",
   "execution_count": null,
   "id": "0e1a7d8f",
   "metadata": {},
   "outputs": [
    {
     "name": "stdout",
     "output_type": "stream",
     "text": [
      "=====猜數字遊戲=====\n",
      "\n",
      "\n",
      "再大一點\n",
      "您已經猜了:1\n",
      "再小一點\n",
      "您已經猜了:2\n",
      "再小一點\n",
      "您已經猜了:3\n",
      "再大一點\n",
      "您已經猜了:4\n",
      "再小一點\n",
      "您已經猜了:5\n",
      "賓果!猜對了, 答案是(target)\n",
      "您猜了6次\n",
      "猜數字的遊戲結束\n"
     ]
    }
   ],
   "source": [
    "import random\n",
    "min = 1 #變數1\n",
    "max = 99 #變數2\n",
    "count = 0\n",
    "target = random.randint(min, max)\n",
    "print(\"=====猜數字遊戲=====\\n\\n\")\n",
    "#print(target) 可改變先後知道答案\n",
    "while(True):\n",
    "    keyin = int(input(f'猜數字範圍{min}~{max}'))\n",
    "    count += 1\n",
    "    if(keyin >= min and keyin <= max):\n",
    "        if(keyin == target):\n",
    "            print(f\"賓果!猜對了, 答案是:(target)\")\n",
    "            print(f\"您猜了{count}次\")\n",
    "            break\n",
    "        elif keyin < target:\n",
    "            print(\"再大一點\")\n",
    "            min = keyin + 1\n",
    "        elif keyin > target:\n",
    "            print(\"再小一點\")\n",
    "            max = keyin - 1\n",
    "        print(f\"您已經猜了:{count}次\")\n",
    "    else:\n",
    "        print(\"請輸入提示範圍內的數字\")\n",
    "    \n",
    "print(\"猜數字的遊戲結束\")"
   ]
  },
  {
   "cell_type": "markdown",
   "id": "c15bb834",
   "metadata": {},
   "source": [
    "### BMI 計算"
   ]
  },
  {
   "cell_type": "code",
   "execution_count": 2,
   "id": "3c7a0584",
   "metadata": {},
   "outputs": [
    {
     "name": "stdout",
     "output_type": "stream",
     "text": [
      "您的 BMI 值為:21.22\n",
      "體重正常\n"
     ]
    }
   ],
   "source": [
    "#輸入身高與體重\n",
    "height = float(input(\"請輸入身高(公尺):\"))\n",
    "weight = float(input(\"請輸入體重(公斤):\"))\n",
    "#計算BMI\n",
    "bmi = weight / (height ** 2)\n",
    "#顯示 BMI 數值\n",
    "print(f\"您的 BMI 值為:{bmi:.2f}\")\n",
    "#判斷 BMI 所屬範圍\n",
    "if bmi < 18.5:\n",
    "    print(\"體重過輕\")\n",
    "elif bmi < 24:\n",
    "    print(\"體重正常\")\n",
    "elif bmi < 27:\n",
    "    print(\"體重過重\")\n",
    "elif bmi < 30:\n",
    "    print(\"輕度肥胖\")\n",
    "elif bmi < 35:\n",
    "    print(\"中度肥胖\")\n",
    "else:\n",
    "    print(\"重度肥胖\")\n"
   ]
  },
  {
   "cell_type": "markdown",
   "id": "c84fb82c",
   "metadata": {},
   "source": [
    "### 求公因數"
   ]
  },
  {
   "cell_type": "code",
   "execution_count": 6,
   "id": "14b8723b",
   "metadata": {},
   "outputs": [
    {
     "name": "stdout",
     "output_type": "stream",
     "text": [
      "請輸入2個整數,求2個數的公因數:\n",
      "12和18的公因數有:  1  2  3  6  "
     ]
    }
   ],
   "source": [
    "#輸入數值\n",
    "print(\"請輸入2個整數,求2個數的公因數:\")\n",
    "num1 = int(input(\"請輸入第1個數值:\"))\n",
    "num2 = int(input(\"請輸入第2個數值:\"))\n",
    "#求公因數\n",
    "print(f\"{num1}和{num2}的公因數有:\",end='  ')\n",
    "for i in range(1, min(num1, num2) + 1):\n",
    "    if num1 % i == 0 and num2 % i ==0:\n",
    "        print(i,end='  ')"
   ]
  }
 ],
 "metadata": {
  "kernelspec": {
   "display_name": "base",
   "language": "python",
   "name": "python3"
  },
  "language_info": {
   "codemirror_mode": {
    "name": "ipython",
    "version": 3
   },
   "file_extension": ".py",
   "mimetype": "text/x-python",
   "name": "python",
   "nbconvert_exporter": "python",
   "pygments_lexer": "ipython3",
   "version": "3.12.7"
  }
 },
 "nbformat": 4,
 "nbformat_minor": 5
}
