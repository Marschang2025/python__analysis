{
 "cells": [
  {
   "cell_type": "markdown",
   "id": "3cbca908",
   "metadata": {},
   "source": [
    "### 不知道執行次數的迴圈 使用 while"
   ]
  },
  {
   "cell_type": "code",
   "execution_count": 2,
   "id": "a8c0ce2d",
   "metadata": {},
   "outputs": [
    {
     "name": "stdout",
     "output_type": "stream",
     "text": [
      "恭喜!已經存夠了,存了6月,共存了33000元\n"
     ]
    }
   ],
   "source": [
    "# 存錢買東西 30000元 每月存**** 直到存滿發訊息通知\n",
    "# 你不知道要存幾個月\n",
    "# 必須找到變數\n",
    "deposit = 0 #step 1\n",
    "month = 0\n",
    "while(deposit < 30000): #step 2\n",
    "    month += 1 #step 3\n",
    "    input_money = int(input(f\"請輸入第{month}月份存款:\"))\n",
    "    deposit += input_money\n",
    "\n",
    "print(f\"恭喜!已經存夠了,存了{month}月,共存了{deposit}元\")"
   ]
  },
  {
   "cell_type": "code",
   "execution_count": 3,
   "id": "1b36c563",
   "metadata": {},
   "outputs": [
    {
     "name": "stdout",
     "output_type": "stream",
     "text": [
      "恭喜!已經存夠了,存了5月,共存了30300元\n"
     ]
    }
   ],
   "source": [
    "# 存錢買東西 30000元 每月存**** 直到存滿發訊息通知\n",
    "# 你不知道要存幾個月\n",
    "# 必須找到變數\n",
    "\n",
    "deposit = 0 #step 1\n",
    "month = 0\n",
    "while(True): #step 2\n",
    "    month += 1 #step 3\n",
    "    input_money = int(input(f\"請輸入第{month}月份存款:\"))\n",
    "    deposit += input_money\n",
    "    if (deposit>=30000):\n",
    "        break\n",
    "    \n",
    "print(f\"恭喜!已經存夠了,存了{month}月,共存了{deposit}元\")"
   ]
  }
 ],
 "metadata": {
  "kernelspec": {
   "display_name": "base",
   "language": "python",
   "name": "python3"
  },
  "language_info": {
   "codemirror_mode": {
    "name": "ipython",
    "version": 3
   },
   "file_extension": ".py",
   "mimetype": "text/x-python",
   "name": "python",
   "nbconvert_exporter": "python",
   "pygments_lexer": "ipython3",
   "version": "3.12.7"
  }
 },
 "nbformat": 4,
 "nbformat_minor": 5
}
