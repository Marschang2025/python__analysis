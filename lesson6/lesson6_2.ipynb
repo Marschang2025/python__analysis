{
 "cells": [
  {
   "cell_type": "markdown",
   "id": "3cbca908",
   "metadata": {},
   "source": [
    "### 不知道執行次數的迴圈 使用 while"
   ]
  },
  {
   "cell_type": "code",
   "execution_count": 2,
   "id": "a8c0ce2d",
   "metadata": {},
   "outputs": [
    {
     "name": "stdout",
     "output_type": "stream",
     "text": [
      "恭喜!已經存夠了,存了6月,共存了33000元\n"
     ]
    }
   ],
   "source": [
    "# 存錢買東西 30000元 每月存**** 直到存滿發訊息通知\n",
    "# 你不知道要存幾個月\n",
    "# 必須找到變數\n",
    "deposit = 0 #step 1\n",
    "month = 0\n",
    "while(deposit < 30000): #step 2\n",
    "    month += 1 #step 3\n",
    "    input_money = int(input(f\"請輸入第{month}月份存款:\"))\n",
    "    deposit += input_money\n",
    "\n",
    "print(f\"恭喜!已經存夠了,存了{month}月,共存了{deposit}元\")"
   ]
  },
  {
   "cell_type": "code",
   "execution_count": 3,
   "id": "1b36c563",
   "metadata": {},
   "outputs": [
    {
     "name": "stdout",
     "output_type": "stream",
     "text": [
      "恭喜!已經存夠了,存了5月,共存了30300元\n"
     ]
    }
   ],
   "source": [
    "# 存錢買東西 30000元 每月存**** 直到存滿發訊息通知\n",
    "# 你不知道要存幾個月\n",
    "# 必須找到變數\n",
    "\n",
    "deposit = 0 #step 1\n",
    "month = 0\n",
    "while(True): #step 2\n",
    "    month += 1 #step 3\n",
    "    input_money = int(input(f\"請輸入第{month}月份存款:\"))\n",
    "    deposit += input_money\n",
    "    if (deposit>=30000):\n",
    "        break\n",
    "    \n",
    "print(f\"恭喜!已經存夠了,存了{month}月,共存了{deposit}元\")"
   ]
  },
  {
   "cell_type": "markdown",
   "id": "391b6f69",
   "metadata": {},
   "source": [
    "- 奇數輸出平方\n",
    "- 偶數不要做任何動作\n",
    "-'q'要離開"
   ]
  },
  {
   "cell_type": "code",
   "execution_count": 5,
   "id": "aead2deb",
   "metadata": {},
   "outputs": [
    {
     "name": "stdout",
     "output_type": "stream",
     "text": [
      "應用程式結束\n"
     ]
    }
   ],
   "source": [
    "while(True):\n",
    "    value = input('請輸入整數,輸入[q]離開')\n",
    "    if value == 'q':\n",
    "        break\n",
    "\n",
    "    try:\n",
    "        value = int(value) #變整數蓋掉自己\n",
    "    except:\n",
    "        print(\"輸入錯誤,請重新輸入\")\n",
    "        continue\n",
    "    \n",
    "    if (value % 2 == 1):\n",
    "        print(f\"{value}的平方是{value**2}\")\n",
    "    #else:\n",
    "    #   continue 這2行可省略不寫,因為上面有一個continue\n",
    "\n",
    "print(\"應用程式結束\")\n"
   ]
  }
 ],
 "metadata": {
  "kernelspec": {
   "display_name": "base",
   "language": "python",
   "name": "python3"
  },
  "language_info": {
   "codemirror_mode": {
    "name": "ipython",
    "version": 3
   },
   "file_extension": ".py",
   "mimetype": "text/x-python",
   "name": "python",
   "nbconvert_exporter": "python",
   "pygments_lexer": "ipython3",
   "version": "3.12.7"
  }
 },
 "nbformat": 4,
 "nbformat_minor": 5
}
