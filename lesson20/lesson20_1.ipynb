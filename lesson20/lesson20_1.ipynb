{
 "cells": [
  {
   "cell_type": "markdown",
   "id": "ebef2742",
   "metadata": {},
   "source": [
    "### pandas的階層式索引\n",
    "https://www.perplexity.ai/search/94f7fc8c-0595-416f-b080-1e318bd7404d"
   ]
  },
  {
   "cell_type": "code",
   "execution_count": 1,
   "id": "660997cb",
   "metadata": {},
   "outputs": [
    {
     "data": {
      "text/plain": [
       "a  1    0.096458\n",
       "   2   -0.239351\n",
       "   3   -1.359158\n",
       "b  1    0.926481\n",
       "   2    1.822882\n",
       "c  3   -0.855976\n",
       "   1   -1.850679\n",
       "d  2   -0.887066\n",
       "   3    1.370310\n",
       "dtype: float64"
      ]
     },
     "execution_count": 1,
     "metadata": {},
     "output_type": "execute_result"
    }
   ],
   "source": [
    "import numpy as np\n",
    "import pandas as pd\n",
    "\n",
    "data = pd.Series(np.random.randn(9),\n",
    "                index=[['a', 'a', 'a', 'b', 'b', 'c', 'c', 'd', 'd'],\n",
    "                       [1, 2, 3, 1, 2, 3, 1, 2, 3]])\n",
    "data"
   ]
  },
  {
   "cell_type": "code",
   "execution_count": 2,
   "id": "9fa8a460",
   "metadata": {},
   "outputs": [
    {
     "data": {
      "text/plain": [
       "1    0.096458\n",
       "2   -0.239351\n",
       "3   -1.359158\n",
       "dtype: float64"
      ]
     },
     "execution_count": 2,
     "metadata": {},
     "output_type": "execute_result"
    }
   ],
   "source": [
    "data['a']"
   ]
  },
  {
   "cell_type": "code",
   "execution_count": 3,
   "id": "f32025bf",
   "metadata": {},
   "outputs": [
    {
     "data": {
      "text/plain": [
       "np.float64(-0.239350760560827)"
      ]
     },
     "execution_count": 3,
     "metadata": {},
     "output_type": "execute_result"
    }
   ],
   "source": [
    "\n",
    "data['a'][2]"
   ]
  },
  {
   "cell_type": "code",
   "execution_count": 4,
   "id": "353931f3",
   "metadata": {},
   "outputs": [
    {
     "data": {
      "text/plain": [
       "a  1    0.096458\n",
       "   2   -0.239351\n",
       "   3   -1.359158\n",
       "b  1    0.926481\n",
       "   2    1.822882\n",
       "dtype: float64"
      ]
     },
     "execution_count": 4,
     "metadata": {},
     "output_type": "execute_result"
    }
   ],
   "source": [
    "\n",
    "data['a':'b'] #二維資料"
   ]
  },
  {
   "cell_type": "code",
   "execution_count": 5,
   "id": "22cde0e7",
   "metadata": {},
   "outputs": [
    {
     "data": {
      "text/plain": [
       "a  1    0.096458\n",
       "   2   -0.239351\n",
       "   3   -1.359158\n",
       "b  1    0.926481\n",
       "   2    1.822882\n",
       "c  1   -1.850679\n",
       "   3   -0.855976\n",
       "d  2   -0.887066\n",
       "   3    1.370310\n",
       "dtype: float64"
      ]
     },
     "execution_count": 5,
     "metadata": {},
     "output_type": "execute_result"
    }
   ],
   "source": [
    "#Series->堆疊資料>(long data)\n",
    "#2維資料->非堆疊資料>(width data)\n",
    "data.unstack().stack()"
   ]
  }
 ],
 "metadata": {
  "kernelspec": {
   "display_name": "myenv",
   "language": "python",
   "name": "python3"
  },
  "language_info": {
   "codemirror_mode": {
    "name": "ipython",
    "version": 3
   },
   "file_extension": ".py",
   "mimetype": "text/x-python",
   "name": "python",
   "nbconvert_exporter": "python",
   "pygments_lexer": "ipython3",
   "version": "3.10.16"
  }
 },
 "nbformat": 4,
 "nbformat_minor": 5
}
