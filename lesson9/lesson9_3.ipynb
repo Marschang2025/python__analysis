{
 "cells": [
  {
   "cell_type": "code",
   "execution_count": 10,
   "id": "f33541ba",
   "metadata": {},
   "outputs": [],
   "source": [
    "from dataclasses import dataclass\n",
    "\n",
    "@dataclass\n",
    "class Student: #class 建立第1個字母習慣用大寫\n",
    "    name:str\n",
    "    chinese:int\n",
    "    english:int\n",
    "    math:int\n",
    "\n",
    "    @property\n",
    "    def sum(self): #def (裡面一定要寫self)\n",
    "        return self.chinese + self.english + self.math"
   ]
  },
  {
   "cell_type": "code",
   "execution_count": 17,
   "id": "f41f2201",
   "metadata": {},
   "outputs": [],
   "source": [
    "stu1:Student = Student(name=\"robert\",\n",
    "                       chinese=98,\n",
    "                       english=75,\n",
    "                       math=69)\n",
    "\n",
    "stu2:Student = Student(name=\"jenny\",\n",
    "                       chinese=87,\n",
    "                       english=92,\n",
    "                       math=75)\n"
   ]
  },
  {
   "cell_type": "code",
   "execution_count": 18,
   "id": "cca366d0",
   "metadata": {},
   "outputs": [
    {
     "name": "stdout",
     "output_type": "stream",
     "text": [
      "('robert', 100, 75, 69)\n",
      "244\n"
     ]
    }
   ],
   "source": [
    "stu1.chinese = 100\n",
    "#stu1.sum = 300 一般的property只可以讀,不可以寫入(readonly)\n",
    "print((stu1.name, stu1.chinese, stu1.english, stu1.math)) \n",
    "print(stu1.sum)"
   ]
  },
  {
   "cell_type": "code",
   "execution_count": 19,
   "id": "882ca4d8",
   "metadata": {},
   "outputs": [
    {
     "name": "stdout",
     "output_type": "stream",
     "text": [
      "('jenny', 87, 92, 75)\n",
      "254\n"
     ]
    }
   ],
   "source": [
    "print((stu2.name, stu2.chinese, stu2.english, stu2.math))\n",
    "print(stu2.sum)"
   ]
  }
 ],
 "metadata": {
  "kernelspec": {
   "display_name": "base",
   "language": "python",
   "name": "python3"
  },
  "language_info": {
   "codemirror_mode": {
    "name": "ipython",
    "version": 3
   },
   "file_extension": ".py",
   "mimetype": "text/x-python",
   "name": "python",
   "nbconvert_exporter": "python",
   "pygments_lexer": "ipython3",
   "version": "3.12.7"
  }
 },
 "nbformat": 4,
 "nbformat_minor": 5
}
