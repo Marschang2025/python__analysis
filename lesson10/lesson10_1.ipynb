{
 "cells": [
  {
   "cell_type": "markdown",
   "id": "ef30d202",
   "metadata": {},
   "source": [
    "### 如何python取得目前專案內的names.txt的絕對位置\n",
    "- 請使用繁體中文回覆"
   ]
  },
  {
   "cell_type": "code",
   "execution_count": 2,
   "id": "6d22e30e",
   "metadata": {},
   "outputs": [
    {
     "data": {
      "text/plain": [
       "'/workspaces/python__analysis/lesson10/names.txt'"
      ]
     },
     "execution_count": 2,
     "metadata": {},
     "output_type": "execute_result"
    }
   ],
   "source": [
    "import os\n",
    "file_name:str = 'names.txt'\n",
    "abs_path:str = os.path.abspath(file_name)\n",
    "abs_path"
   ]
  }
 ],
 "metadata": {
  "kernelspec": {
   "display_name": "base",
   "language": "python",
   "name": "python3"
  },
  "language_info": {
   "codemirror_mode": {
    "name": "ipython",
    "version": 3
   },
   "file_extension": ".py",
   "mimetype": "text/x-python",
   "name": "python",
   "nbconvert_exporter": "python",
   "pygments_lexer": "ipython3",
   "version": "3.12.7"
  }
 },
 "nbformat": 4,
 "nbformat_minor": 5
}
